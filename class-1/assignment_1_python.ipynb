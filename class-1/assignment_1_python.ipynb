{
  "nbformat": 4,
  "nbformat_minor": 0,
  "metadata": {
    "colab": {
      "provenance": []
    },
    "kernelspec": {
      "name": "python3",
      "display_name": "Python 3"
    },
    "language_info": {
      "name": "python"
    }
  },
  "cells": [
    {
      "cell_type": "code",
      "execution_count": null,
      "metadata": {
        "colab": {
          "base_uri": "https://localhost:8080/"
        },
        "id": "1P9-aTgFDyOa",
        "outputId": "43a80187-6955-435c-98b6-d39fc2d859bf"
      },
      "outputs": [
        {
          "output_type": "stream",
          "name": "stdout",
          "text": [
            "hello world\n"
          ]
        }
      ],
      "source": [
        "print(\"hello world\")"
      ]
    },
    {
      "cell_type": "code",
      "source": [
        "\n",
        "name = \"Almas\"\n",
        "city = \"Karachi\"\n",
        "gender = \"Female\"\n",
        "nationality = \"Pakistani\"\n",
        "religion = \"Islam\"\n",
        "greeting = \"for asking\"\n",
        "\n",
        "\n",
        "print(\"\\n--- Personal Information ---\")\n",
        "print(f\"My name is {name}.\")\n",
        "print(f\"I live in {city}.\")\n",
        "print(f\"My gender is {gender}.\")\n",
        "print(f\"My nationality is {nationality}.\")\n",
        "print(f\"My religion is {religion}.\")\n",
        "print(f\"thanyou {greeting}.\")\n"
      ],
      "metadata": {
        "id": "_AMkMAfcF8-V",
        "colab": {
          "base_uri": "https://localhost:8080/"
        },
        "outputId": "e82223a0-17aa-46f1-952c-3866987b8b49"
      },
      "execution_count": 5,
      "outputs": [
        {
          "output_type": "stream",
          "name": "stdout",
          "text": [
            "\n",
            "--- Personal Information ---\n",
            "My name is Almas.\n",
            "I live in Karachi.\n",
            "My gender is Female.\n",
            "My nationality is Pakistani.\n",
            "My religion is Islam.\n",
            "thanyou for asking.\n"
          ]
        }
      ]
    },
    {
      "cell_type": "code",
      "source": [
        "# Personal Information\n",
        "name = \"Almas\"\n",
        "city = \"Karachi\"\n",
        "gender = \"Female\"\n",
        "nationality = \"Pakistani\"\n",
        "religion = \"Islam\"\n",
        "asking = \"asking\"\n",
        "\n",
        "\n",
        "info = f\"\"\"\n",
        "My name is {name}.\n",
        "I live in {city}.\n",
        "My gender is {gender}.\n",
        "My nationality is {nationality}.\n",
        "My religion is {religion}.\n",
        "thanks for {asking}.\n",
        "\"\"\"\n",
        "\n",
        "\n",
        "print(info)\n"
      ],
      "metadata": {
        "colab": {
          "base_uri": "https://localhost:8080/"
        },
        "id": "oe6NvIkftx4S",
        "outputId": "e3a222fb-0576-48e0-999b-2c40bba5b087"
      },
      "execution_count": 8,
      "outputs": [
        {
          "output_type": "stream",
          "name": "stdout",
          "text": [
            "\n",
            "My name is Almas.\n",
            "I live in Karachi.\n",
            "My gender is Female.\n",
            "My nationality is Pakistani.\n",
            "My religion is Islam.\n",
            "thanks for asking.\n",
            "\n"
          ]
        }
      ]
    }
  ]
}