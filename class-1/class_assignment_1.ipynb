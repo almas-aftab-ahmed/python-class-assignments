{
  "nbformat": 4,
  "nbformat_minor": 0,
  "metadata": {
    "colab": {
      "provenance": []
    },
    "kernelspec": {
      "name": "python3",
      "display_name": "Python 3"
    },
    "language_info": {
      "name": "python"
    }
  },
  "cells": [
    {
      "cell_type": "code",
      "execution_count": 1,
      "metadata": {
        "colab": {
          "base_uri": "https://localhost:8080/",
          "height": 582
        },
        "id": "YTb8UuyBeX_3",
        "outputId": "7b771ac5-52d1-4bd6-9df5-7ec416422714"
      },
      "outputs": [
        {
          "output_type": "stream",
          "name": "stdout",
          "text": [
            "ALMAS AFTAB AHMED\n",
            "almas aftab ahmed\n",
            "Almas Aftab Ahmed\n",
            "Python programming is fun!\n",
            "Python programming is amazing!\n",
            "2\n",
            "['The', 'quick', 'brown', 'fox', 'jumps', 'over', 'the', 'lazy', 'dog']\n",
            "The-quick-brown-fox-jumps-over-the-lazy-dog\n",
            "True\n",
            "16\n",
            "My name is Almas and I am 22 years old.\n",
            "I enjoy programming in Python, it's my favorite!\n",
            "In 5 years, I will be 27 years old.\n"
          ]
        },
        {
          "output_type": "error",
          "ename": "KeyboardInterrupt",
          "evalue": "Interrupted by user",
          "traceback": [
            "\u001b[0;31m---------------------------------------------------------------------------\u001b[0m",
            "\u001b[0;31mKeyboardInterrupt\u001b[0m                         Traceback (most recent call last)",
            "\u001b[0;32m<ipython-input-1-f8d120409ab3>\u001b[0m in \u001b[0;36m<cell line: 0>\u001b[0;34m()\u001b[0m\n\u001b[1;32m     71\u001b[0m \u001b[0;34m\u001b[0m\u001b[0m\n\u001b[1;32m     72\u001b[0m \u001b[0;31m# User input simulation (Google Colab mein input() use hoga)\u001b[0m\u001b[0;34m\u001b[0m\u001b[0;34m\u001b[0m\u001b[0m\n\u001b[0;32m---> 73\u001b[0;31m \u001b[0mfirst_name\u001b[0m \u001b[0;34m=\u001b[0m \u001b[0minput\u001b[0m\u001b[0;34m(\u001b[0m\u001b[0;34m\"Enter your first name: \"\u001b[0m\u001b[0;34m)\u001b[0m\u001b[0;34m.\u001b[0m\u001b[0mstrip\u001b[0m\u001b[0;34m(\u001b[0m\u001b[0;34m)\u001b[0m\u001b[0;34m.\u001b[0m\u001b[0mtitle\u001b[0m\u001b[0;34m(\u001b[0m\u001b[0;34m)\u001b[0m\u001b[0;34m\u001b[0m\u001b[0;34m\u001b[0m\u001b[0m\n\u001b[0m\u001b[1;32m     74\u001b[0m \u001b[0mlast_name\u001b[0m \u001b[0;34m=\u001b[0m \u001b[0minput\u001b[0m\u001b[0;34m(\u001b[0m\u001b[0;34m\"Enter your last name: \"\u001b[0m\u001b[0;34m)\u001b[0m\u001b[0;34m.\u001b[0m\u001b[0mstrip\u001b[0m\u001b[0;34m(\u001b[0m\u001b[0;34m)\u001b[0m\u001b[0;34m.\u001b[0m\u001b[0mtitle\u001b[0m\u001b[0;34m(\u001b[0m\u001b[0;34m)\u001b[0m\u001b[0;34m\u001b[0m\u001b[0;34m\u001b[0m\u001b[0m\n\u001b[1;32m     75\u001b[0m \u001b[0mbirth_year\u001b[0m \u001b[0;34m=\u001b[0m \u001b[0minput\u001b[0m\u001b[0;34m(\u001b[0m\u001b[0;34m\"Enter your birth year: \"\u001b[0m\u001b[0;34m)\u001b[0m\u001b[0;34m.\u001b[0m\u001b[0mstrip\u001b[0m\u001b[0;34m(\u001b[0m\u001b[0;34m)\u001b[0m\u001b[0;34m\u001b[0m\u001b[0;34m\u001b[0m\u001b[0m\n",
            "\u001b[0;32m/usr/local/lib/python3.11/dist-packages/ipykernel/kernelbase.py\u001b[0m in \u001b[0;36mraw_input\u001b[0;34m(self, prompt)\u001b[0m\n\u001b[1;32m   1175\u001b[0m                 \u001b[0;34m\"raw_input was called, but this frontend does not support input requests.\"\u001b[0m\u001b[0;34m\u001b[0m\u001b[0;34m\u001b[0m\u001b[0m\n\u001b[1;32m   1176\u001b[0m             )\n\u001b[0;32m-> 1177\u001b[0;31m         return self._input_request(\n\u001b[0m\u001b[1;32m   1178\u001b[0m             \u001b[0mstr\u001b[0m\u001b[0;34m(\u001b[0m\u001b[0mprompt\u001b[0m\u001b[0;34m)\u001b[0m\u001b[0;34m,\u001b[0m\u001b[0;34m\u001b[0m\u001b[0;34m\u001b[0m\u001b[0m\n\u001b[1;32m   1179\u001b[0m             \u001b[0mself\u001b[0m\u001b[0;34m.\u001b[0m\u001b[0m_parent_ident\u001b[0m\u001b[0;34m[\u001b[0m\u001b[0;34m\"shell\"\u001b[0m\u001b[0;34m]\u001b[0m\u001b[0;34m,\u001b[0m\u001b[0;34m\u001b[0m\u001b[0;34m\u001b[0m\u001b[0m\n",
            "\u001b[0;32m/usr/local/lib/python3.11/dist-packages/ipykernel/kernelbase.py\u001b[0m in \u001b[0;36m_input_request\u001b[0;34m(self, prompt, ident, parent, password)\u001b[0m\n\u001b[1;32m   1217\u001b[0m             \u001b[0;32mexcept\u001b[0m \u001b[0mKeyboardInterrupt\u001b[0m\u001b[0;34m:\u001b[0m\u001b[0;34m\u001b[0m\u001b[0;34m\u001b[0m\u001b[0m\n\u001b[1;32m   1218\u001b[0m                 \u001b[0;31m# re-raise KeyboardInterrupt, to truncate traceback\u001b[0m\u001b[0;34m\u001b[0m\u001b[0;34m\u001b[0m\u001b[0m\n\u001b[0;32m-> 1219\u001b[0;31m                 \u001b[0;32mraise\u001b[0m \u001b[0mKeyboardInterrupt\u001b[0m\u001b[0;34m(\u001b[0m\u001b[0;34m\"Interrupted by user\"\u001b[0m\u001b[0;34m)\u001b[0m \u001b[0;32mfrom\u001b[0m \u001b[0;32mNone\u001b[0m\u001b[0;34m\u001b[0m\u001b[0;34m\u001b[0m\u001b[0m\n\u001b[0m\u001b[1;32m   1220\u001b[0m             \u001b[0;32mexcept\u001b[0m \u001b[0mException\u001b[0m\u001b[0;34m:\u001b[0m\u001b[0;34m\u001b[0m\u001b[0;34m\u001b[0m\u001b[0m\n\u001b[1;32m   1221\u001b[0m                 \u001b[0mself\u001b[0m\u001b[0;34m.\u001b[0m\u001b[0mlog\u001b[0m\u001b[0;34m.\u001b[0m\u001b[0mwarning\u001b[0m\u001b[0;34m(\u001b[0m\u001b[0;34m\"Invalid Message:\"\u001b[0m\u001b[0;34m,\u001b[0m \u001b[0mexc_info\u001b[0m\u001b[0;34m=\u001b[0m\u001b[0;32mTrue\u001b[0m\u001b[0;34m)\u001b[0m\u001b[0;34m\u001b[0m\u001b[0;34m\u001b[0m\u001b[0m\n",
            "\u001b[0;31mKeyboardInterrupt\u001b[0m: Interrupted by user"
          ]
        }
      ],
      "source": [
        "# Python Strings Assignment\n",
        "# Created by Almas\n",
        "\n",
        "# Part 1: Understanding String Literals\n",
        "\n",
        "# 1. Creating strings using different quotation styles\n",
        "single_quote = 'This is a string in single quotes'\n",
        "double_quote = \"This is a string in double quotes\"\n",
        "triple_quote = \"\"\"This is a string in triple quotes\"\"\"\n",
        "\n",
        "# 2. Advantages of each quotation style\n",
        "\"\"\"\n",
        "- Single quotes are simple and useful for short text.\n",
        "- Double quotes are good when you need to use an apostrophe inside.\n",
        "- Triple quotes allow multi-line strings and are used for docstrings.\n",
        "\"\"\"\n",
        "\n",
        "# 3. String containing both single and double quotes\n",
        "quote_string = 'She said, \"I\\'m going to the store.\"'\n",
        "\n",
        "# 4. Multi-line string about my favorite hobby\n",
        "hobby_description = \"\"\"Mujhe programming ka bohot shauq hai.\n",
        "Mai naye naye projects banati rehti hoon,\n",
        "aur naye tech stack seekhne ka maza ata hai.\"\"\"\n",
        "\n",
        "\n",
        "# Part 2: String Methods Practice\n",
        "\n",
        "# 1. Name formatting\n",
        "full_name = \"Almas aftab ahmed\"\n",
        "\n",
        "print(full_name.upper())   # UPPERCASE\n",
        "print(full_name.lower())   # lowercase\n",
        "print(full_name.title())   # Capitalized\n",
        "\n",
        "# 2. Working with messy text\n",
        "messy_text = \"   Python programming is fun!   \"\n",
        "cleaned_text = messy_text.strip()\n",
        "modified_text = cleaned_text.replace(\"fun\", \"amazing\")\n",
        "count_i = cleaned_text.count('i')\n",
        "\n",
        "print(cleaned_text)\n",
        "print(modified_text)\n",
        "print(count_i)\n",
        "\n",
        "# 3. Sentence operations\n",
        "sentence = \"The quick brown fox jumps over the lazy dog\"\n",
        "words_list = sentence.split()\n",
        "joined_sentence = \"-\".join(words_list)\n",
        "starts_with_the = sentence.startswith(\"The\")\n",
        "fox_position = sentence.find(\"fox\")\n",
        "\n",
        "print(words_list)\n",
        "print(joined_sentence)\n",
        "print(starts_with_the)\n",
        "print(fox_position)\n",
        "\n",
        "\n",
        "# Part 3: F-Strings\n",
        "\n",
        "name = \"Almas\"\n",
        "age = 22\n",
        "language = \"Python\"\n",
        "\n",
        "print(f\"My name is {name} and I am {age} years old.\")\n",
        "print(f\"I enjoy programming in {language}, it's my favorite!\")\n",
        "print(f\"In 5 years, I will be {age + 5} years old.\")\n",
        "\n",
        "\n",
        "# Part 4: Combining String Methods with F-Strings\n",
        "\n",
        "# User input simulation (Google Colab mein input() use hoga)\n",
        "first_name = input(\"Enter your first name: \").strip().title()\n",
        "last_name = input(\"Enter your last name: \").strip().title()\n",
        "birth_year = input(\"Enter your birth year: \").strip()\n",
        "\n",
        "# Age Calculation (2025 ke hisaab se)\n",
        "current_year = 2025\n",
        "age_calculated = current_year - int(birth_year)\n",
        "\n",
        "# Username generation\n",
        "username = f\"{first_name[0].lower()}{last_name.lower()}{birth_year}\"\n",
        "\n",
        "# Profile message\n",
        "profile_message = f\"Profile: {first_name} {last_name}, Age: {age_calculated}, Username: {username}\"\n",
        "\n",
        "print(profile_message)\n"
      ]
    }
  ]
}